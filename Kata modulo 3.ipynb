{
 "cells": [
  {
   "cell_type": "markdown",
   "metadata": {},
   "source": [
    "## Programa para detectar velocidad de asteroides\n",
    "\n",
    "Este codigo nos ayudara a detectar asteroides que se acerquen rapidamente a la tierra para dar una advertencia!"
   ]
  },
  {
   "cell_type": "code",
   "execution_count": 6,
   "metadata": {},
   "outputs": [
    {
     "name": "stdout",
     "output_type": "stream",
     "text": [
      "PELIGRO!!! ..Un asteroide se esta acercando muy rapido!\n"
     ]
    }
   ],
   "source": [
    "ast = 49\n",
    "if ast > 25:\n",
    "    print('PELIGRO!!! ..Un asteroide se esta acercando muy rapido!')\n",
    "else:\n",
    "    print('Tranquilos no pasa nada :)')"
   ]
  },
  {
   "cell_type": "markdown",
   "metadata": {},
   "source": [
    "## Programa para detectar rayo de luz de asteroides\n",
    "\n",
    "Este codigo nos ayudara a detectar si un asteroide se acerca con la velocidad suficiente para ver un rayo de luz"
   ]
  },
  {
   "cell_type": "code",
   "execution_count": 7,
   "metadata": {},
   "outputs": [
    {
     "name": "stdout",
     "output_type": "stream",
     "text": [
      "Este asteroide no dara espectaculo de luz\n"
     ]
    }
   ],
   "source": [
    "ast = 19\n",
    "if ast > 20:\n",
    "    print('Miren todos arriba! ... Hay una luz de asteroide por el cielo!')\n",
    "elif ast == 20:\n",
    "    print('Miren todos arriba! ... Hay una luz de asteroide por el cielo!')\n",
    "else:\n",
    "    print('Este asteroide no dara espectaculo de luz')"
   ]
  },
  {
   "cell_type": "markdown",
   "metadata": {},
   "source": [
    "## Programa para detectar asteroides de gran tamano\n",
    "\n",
    "Este codigo nos ayudara a detectar asteroides que por su velocidad y tamano puedan ser de peligro"
   ]
  },
  {
   "cell_type": "code",
   "execution_count": 9,
   "metadata": {},
   "outputs": [
    {
     "name": "stdout",
     "output_type": "stream",
     "text": [
      "Alerta !!! Se acerca un asteroide MUY PELIGROSO!!\n"
     ]
    }
   ],
   "source": [
    "v_ast = 30\n",
    "t_ast = 40\n",
    "if v_ast > 25 and t_ast > 25:\n",
    "    print('Alerta !!! Se acerca un asteroide MUY PELIGROSO!!')\n",
    "elif v_ast >= 20:\n",
    "    print('Miren todos arriba! ... Hay una luz de asteroide por el cielo!')\n",
    "elif t_ast < 25:\n",
    "    print('Este asteroide no dara espectaculo de luz')\n",
    "else:\n",
    "    print('Tranquilos no pasa nada :)')"
   ]
  }
 ],
 "metadata": {
  "interpreter": {
   "hash": "539ea75608de1fd72d7fb1015f959eb3177f2f9cb5db9244af26c62f9777d904"
  },
  "kernelspec": {
   "display_name": "Python 3.10.2 64-bit",
   "language": "python",
   "name": "python3"
  },
  "language_info": {
   "codemirror_mode": {
    "name": "ipython",
    "version": 3
   },
   "file_extension": ".py",
   "mimetype": "text/x-python",
   "name": "python",
   "nbconvert_exporter": "python",
   "pygments_lexer": "ipython3",
   "version": "3.10.2"
  },
  "orig_nbformat": 4
 },
 "nbformat": 4,
 "nbformat_minor": 2
}
