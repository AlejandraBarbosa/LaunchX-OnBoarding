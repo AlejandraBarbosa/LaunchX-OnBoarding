{
 "cells": [
  {
   "cell_type": "markdown",
   "metadata": {},
   "source": [
    "## Programa para calcular la distancia entre planetas\n",
    "\n",
    "Exploremos cómo podemos crear un programa que pueda calcular la distancia entre dos planetas. Comenzaremos usando dos distancias de planetas: Tierra (149.597.870 km) y Júpiter (778.547.200 km)"
   ]
  },
  {
   "cell_type": "code",
   "execution_count": 10,
   "metadata": {},
   "outputs": [
    {
     "name": "stdout",
     "output_type": "stream",
     "text": [
      "Distancia en Kilometros: 628949330\n",
      "Distancia en Millas: 390577533.93\n"
     ]
    }
   ],
   "source": [
    "##Creacion de variables\n",
    "tierra = 149597870\n",
    "jupiter = 778547200\n",
    "\n",
    "##obtener distancia en km\n",
    "km = jupiter - tierra\n",
    "print(\"Distancia en Kilometros: \"+str(km))\n",
    "\n",
    "##convertir a millas\n",
    "mi = km * 0.621\n",
    "print(\"Distancia en Millas: \"+str(mi))\n"
   ]
  },
  {
   "cell_type": "markdown",
   "metadata": {},
   "source": [
    "## Programa para calcular la distancia del sol para dos planetas\n",
    "\n",
    "Para crear nuestra aplicación, queremos leer la distancia del sol para dos planetas, y luego mostrar la distancia entre los planetas. Haremos esto usando input para leer los valores, int para convertir a entero y luego abs para convertir el resultado en su valor absoluto."
   ]
  },
  {
   "cell_type": "code",
   "execution_count": 11,
   "metadata": {},
   "outputs": [
    {
     "name": "stdout",
     "output_type": "stream",
     "text": [
      "Distancia en KM: 56069493\n",
      "Distancia en Millas: 34819155.153\n"
     ]
    }
   ],
   "source": [
    "##Entrada de datos de usuario\n",
    "planeta1 = input('Introduce la distancia desde el sol para el planeta 1 en KM')\n",
    "planeta2 = input('Introduce la distancia desde el sol para el planeta 2 en KM')\n",
    "\n",
    "#convertir datos a numeros enteros\n",
    "planeta1 = int(planeta1)\n",
    "planeta2 = int(planeta2)\n",
    "\n",
    "#Calcular para determinar el valor absoluto\n",
    "distkm = planeta2 - planeta1\n",
    "print(\"Distancia en KM: \"+str(distkm))\n",
    "\n",
    "#Convertir a Millas\n",
    "distmi = distkm * 0.621\n",
    "print(\"Distancia en Millas: \"+str(abs(distmi)))\n"
   ]
  }
 ],
 "metadata": {
  "interpreter": {
   "hash": "539ea75608de1fd72d7fb1015f959eb3177f2f9cb5db9244af26c62f9777d904"
  },
  "kernelspec": {
   "display_name": "Python 3.10.2 64-bit",
   "language": "python",
   "name": "python3"
  },
  "language_info": {
   "codemirror_mode": {
    "name": "ipython",
    "version": 3
   },
   "file_extension": ".py",
   "mimetype": "text/x-python",
   "name": "python",
   "nbconvert_exporter": "python",
   "pygments_lexer": "ipython3",
   "version": "3.10.2"
  },
  "orig_nbformat": 4
 },
 "nbformat": 4,
 "nbformat_minor": 2
}
